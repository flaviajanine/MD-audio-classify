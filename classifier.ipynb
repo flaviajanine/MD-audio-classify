{
 "cells": [
  {
   "cell_type": "markdown",
   "metadata": {},
   "source": [
    "## Parte 1 da Entrega do Projeto de Mineração de Dados\n",
    " \n",
    " - Leitura dos áudios;\n",
    " - Processamento através de MEL-frequency Ceptral Coeficients;\n",
    " - Amostragem e plotagem das frequências em gráfico comparativo.\n",
    " "
   ]
  },
  {
   "cell_type": "code",
   "execution_count": 2,
   "metadata": {},
   "outputs": [],
   "source": [
    "import os\n",
    "import librosa\n",
    "import librosa.display\n",
    "import pandas as pd\n",
    "import numpy as np\n",
    "from sklearn.neural_network import MLPClassifier\n",
    "from sklearn.model_selection import cross_val_score, learning_curve, ShuffleSplit, validation_curve\n",
    "\n",
    "def label_audio(filepath, filename):\n",
    "    try:\n",
    "        data, fs = librosa.load(filepath, None)\n",
    "        librosa.display.waveplot(data, sr=fs)\n",
    "        hop_length = 512\n",
    "        mfcc = librosa.feature.mfcc(data,  sr=fs, hop_length=hop_length, n_mfcc=40)\n",
    "    \n",
    "        feature = np.mean(mfcc.T, axis=0)\n",
    "         \n",
    "    except Exception as e:\n",
    "        print(\"Error on processing file: \", filename)\n",
    "        return None, None\n",
    "\n",
    "    label = filename.split('.wav')[0]\n",
    "    \n",
    "    return [feature, label]\n",
    "\n",
    "def label_to_list(label):\n",
    "    return np.array(list(label))\n",
    "        \n",
    "def feature_to_list(feature):\n",
    "    return np.array(feature.tolist())"
   ]
  },
  {
   "cell_type": "markdown",
   "metadata": {},
   "source": [
    "### Busca dos arquivos\n",
    " - Listagem dos dados de treino e validação;\n",
    " - Output do gráfico após a função de processamento de todos os áudios."
   ]
  },
  {
   "cell_type": "code",
   "execution_count": 4,
   "metadata": {
    "scrolled": false
   },
   "outputs": [],
   "source": [
    "train_folder = 'base_treinamento_I'\n",
    "train_path = os.path.abspath(train_folder)\n",
    "\n",
    "validation_folder = 'base_validacao_I'\n",
    "validation_path = os.path.abspath(validation_folder)\n",
    "\n",
    "X_train = list()\n",
    "Y_train = list()\n",
    "\n",
    "X_val = list()\n",
    "Y_val = list()\n",
    "\n",
    "for root, dirs, filenames in os.walk(train_path):\n",
    "    for f in filenames:\n",
    "        feature, label = label_audio('{0}/{1}'.format(train_path, f), f)\n",
    "        X_train.extend(np.split(feature_to_list(feature),4))\n",
    "        Y_train.extend(label_to_list(label))\n",
    "\n",
    "for root, dirs, filenames in os.walk(validation_path):\n",
    "    for f in filenames:\n",
    "        feature, label = label_audio('{0}/{1}'.format(validation_path, f), f)\n",
    "        X_val.extend(np.split(feature_to_list(feature),4))\n",
    "        Y_val.extend(label_to_list(label))\n",
    "        "
   ]
  },
  {
   "cell_type": "markdown",
   "metadata": {},
   "source": [
    "### Treino da rede neural\n",
    "\n",
    "- A rede é treinada com a base, iterando entre cada arquivo de áudio com seus respectivos labels extraídos do nome do arquivo;\n",
    "- É feito o cross validation com o score e com shuffle split."
   ]
  },
  {
   "cell_type": "code",
   "execution_count": 35,
   "metadata": {},
   "outputs": [
    {
     "name": "stdout",
     "output_type": "stream",
     "text": [
      "['6' 'a' '6' 'n' '7' 'a' 'a' '7' '7' 'n' 'm' 'x' 'm' 'a' 'a' 'b' '6' 'a'\n",
      " 'b' 'a' 'h' 'a' 'a' 'x' '6' 'a' '7' 'b' 'a' 'a' 'a' 'a' 'n' 'm' 'b' 'n'\n",
      " 'n' 'm' 'm' 'm' 'b' 'a' '6' '6' 'h' 'b' 'b' 'b' 'n' 'a' 'b' 'b' 'h' 'b'\n",
      " 'm' 'm' 'h' 'b' 'b' 'm' '7' 'a' 'm' 'a' 'h' 'a' 'a' '6' 'c' 'n' 'a' 'b'\n",
      " '7' 'm' 'b' 'b' '6' 'a' 'x' 'n' 'n' 'm' 'a' 'n' '7' 'x' 'b' 'n' 'n' 'a'\n",
      " 'b' 'b' 'h' 'a' 'x' 'n' 'n' 'a' '7' 'a' 'h' 'a' 'a' 'b' 'h' 'a' 'b' '7'\n",
      " 'b' 'a' 'a' 'x' 'c' 'b' 'b' 'b' 'c' '6' 'a' '7' 'h' 'b' '6' 'a' 'n' 'n'\n",
      " 'a' 'n' 'a' 'a' 'a' 'n' 'h' 'a' 'a' 'x' 'n' 'a' 'b' 'm' 'n' 'a' 'b' 'b'\n",
      " 'n' 'a' 'a' 'x' 'h' 'a' 'a' 'b' 'n' '6' 'a' 'n' 'n' 'n' 'a' 'n' '7' '7'\n",
      " 'b' 'b' '7' 'a' 'm' '6' 'a' '6' 'a' 'n' 'h' 'b' 'm' 'b' 'n' 'b' 'b' 'b'\n",
      " 'h' '7' 'a' 'n' 'h' 'a' 'a' 'm' '7' '6' 'b' 'n' '7' 'a' 'a' 'n' '6' 'a'\n",
      " 'a' 'b' 'n' 'a' '7' 'x' '6' 'a' 'a' 'a' 'h' 'a' '6' 'n' '7' 'a' 'a' 'a'\n",
      " 'n' 'm' 'a' 'n' 'h' 'a' 'm' 'm' 'h' 'a' 'a' 'a' 'h' 'a' 'a' 'x' '6' 'a'\n",
      " 'a' 'b' 'a' 'a' 'a' 'n' '6' 'a' 'a' '7' 'n' 'a' 'a' '6' 'h' 'b' 'm' 'b'\n",
      " 'a' 'a' 'm' 'm' 'h' 'b' 'b' 'm' '6' 'a' 'a' 'a' 'h' 'n' 'b' 'm' 'h' 'a'\n",
      " 'a' 'n' '6' 'x' 'x' 'x' '7' 'b' 'b' 'a' 'n' 'n' 'x' 'n' 'h' 'a' 'm' 'b'\n",
      " 'h' 'a' 'a' 'n' 'b' 'a' 'a' 'x' 'h' 'n' 'x' 'n' 'a' 'm' 'b' 'b' 'n' '7'\n",
      " 'a' 'n' 'n' 'a' 'a' 'x' '7' 'a' 'm' 'm' 'x' 'a' 'm' 'b' '6' 'x' 'm' 'b'\n",
      " 'h' 'n' 'm' 'm' 'c' '7' 'a' 'n' 'b' 'x' 'a' 'm' 'h' 'b' 'x' 'n' 'm' 'a'\n",
      " '7' 'a' 'n' '7' 'b' 'n' 'n' '7' 'a' 'n' 'x' 'a' 'a' 'a' '7' 'b' 'x' 'n'\n",
      " 'n' 'b' 'x' 'b' '7' 'a' 'm' 'b' 'n' 'm' 'b' '6' '6' '6' 'b' 'h' 'h' 'a'\n",
      " 'x' 'n' 'c' 'b' 'm' 'b' 'h' '7' 'a' '7' 'n' 'a' 'a' 'n' 'h' 'm' 'm' 'b'\n",
      " '6' 'a' 'a' 'm' 'a' 'a' 'm' 'n' 'x' 'n' 'a' 'b' 'h' 'a' 'x' 'n' 'x' 'a'\n",
      " 'a' 'b' 'h' 'a' '6' 'b' 'n' 'a' 'a' 'x' 'h' 'a' '6' 'x' 'n' 'a' '6' 'b'\n",
      " 'b' 'a' '6' 'n' 'a' 'a' 'b' 'a' 'm' 'a' 'a' 'x' '6' 'a' 'a' '7' 'a' 'a'\n",
      " '7' 'x' 'h' 'm' 'a' 'b' 'h' 'a' 'm' 'm' 'h' 'm' 'm' 'n' '6' 'a' 'n' 'a'\n",
      " 'n' '6' 'a' 'b' '6' 'x' 'b' 'm' 'h' 'a' 'b' 'x' 'm' 'a' '6' 'x' '6' 'a'\n",
      " 'm' 'a' 'h' 'm' 'n' 'x' '6' 'a' '6' 'a' 'n' 'a' 'x' 'b' 'n' 'a' 'b' 'm'\n",
      " 'n' 'm' 'x' 'n' 'n' 'b' 'a' 'a' 'n' 'x' '6' 'a' 'n' 'a' 'a' 'n' '7' 'a'\n",
      " 'b' 'b' 'n' 'a' '6' 'x' '6' '6' '6' '7' '7' 'm' 'm' 'a' 'a' 'a' '6' 'x'\n",
      " 'b' 'a' '6' 'x' '6' '7' 'a' 'b' 'h' '7' 'a' 'm' 'n' 'a' 'a' '7' 'x' 'm'\n",
      " '7' 'm' 'h' 'a' 'b' 'm' 'm' '7' 'a' 'a' 'n' 'a' 'a' '7' 'x' 'b' 'b' 'a'\n",
      " '7' 'a' '6' '7' 'n' 'a' 'a' 'n' 'n' 'n' 'b' 'b']\n",
      "0.18125\n",
      "['6' 'a' '6' 'n' '7' 'a' 'a' '7' '7' 'n' 'm' 'x' 'm' 'a' 'a' 'b' '6' 'a'\n",
      " 'b' 'a' 'h' 'a' 'a' 'x' '6' 'a' '7' 'b' 'a' 'a' 'a' 'a' 'n' 'm' 'b' 'n'\n",
      " 'n' 'm' 'm' 'm' 'b' 'a' '6' '6' 'h' 'b' 'b' 'b' 'n' 'a' 'b' 'b' 'h' 'b'\n",
      " 'm' 'm' 'h' 'b' 'b' 'm' '7' 'a' 'm' 'a' 'h' 'a' 'a' '6' 'c' 'n' 'a' 'b'\n",
      " '7' 'm' 'b' 'b' '6' 'a' 'x' 'n' 'n' 'm' 'a' 'n' '7' 'x' 'b' 'n' 'n' 'a'\n",
      " 'b' 'b' 'h' 'a' 'x' 'n' 'n' 'a' '7' 'a' 'h' 'a' 'a' 'b' 'h' 'a' 'b' '7'\n",
      " 'b' 'a' 'a' 'x' 'c' 'b' 'b' 'b' 'c' '6' 'a' '7' 'h' 'b' '6' 'a' 'n' 'n'\n",
      " 'a' 'n' 'a' 'a' 'a' 'n' 'h' 'a' 'a' 'x' 'n' 'a' 'b' 'm' 'n' 'a' 'b' 'b'\n",
      " 'n' 'a' 'a' 'x' 'h' 'a' 'a' 'b' 'n' '6' 'a' 'n' 'n' 'n' 'a' 'n' '7' '7'\n",
      " 'b' 'b' '7' 'a' 'm' '6' 'a' '6' 'a' 'n' 'h' 'b' 'm' 'b' 'n' 'b' 'b' 'b'\n",
      " 'h' '7' 'a' 'n' 'h' 'a' 'a' 'm' '7' '6' 'b' 'n' '7' 'a' 'a' 'n' '6' 'a'\n",
      " 'a' 'b' 'n' 'a' '7' 'x' '6' 'a' 'a' 'a' 'h' 'a' '6' 'n' '7' 'a' 'a' 'a'\n",
      " 'n' 'm' 'a' 'n' 'h' 'a' 'm' 'm' 'h' 'a' 'a' 'a' 'h' 'a' 'a' 'x' '6' 'a'\n",
      " 'a' 'b' 'a' 'a' 'a' 'n' '6' 'a' 'a' '7' 'n' 'a' 'a' '6' 'h' 'b' 'm' 'b'\n",
      " 'a' 'a' 'm' 'm' 'h' 'b' 'b' 'm' '6' 'a' 'a' 'a' 'h' 'n' 'b' 'm' 'h' 'a'\n",
      " 'a' 'n' '6' 'x' 'x' 'x' '7' 'b' 'b' 'a' 'n' 'n' 'x' 'n' 'h' 'a' 'm' 'b'\n",
      " 'h' 'a' 'a' 'n' 'b' 'a' 'a' 'x' 'h' 'n' 'x' 'n' 'a' 'm' 'b' 'b' 'n' '7'\n",
      " 'a' 'n' 'n' 'a' 'a' 'x' '7' 'a' 'm' 'm' 'x' 'a' 'm' 'b' '6' 'x' 'm' 'b'\n",
      " 'h' 'n' 'm' 'm' 'c' '7' 'a' 'n' 'b' 'x' 'a' 'm' 'h' 'b' 'x' 'n' 'm' 'a'\n",
      " '7' 'a' 'n' '7' 'b' 'n' 'n' '7' 'a' 'n' 'x' 'a' 'a' 'a' '7' 'b' 'x' 'n'\n",
      " 'n' 'b' 'x' 'b' '7' 'a' 'm' 'b' 'n' 'm' 'b' '6' '6' '6' 'b' 'h' 'h' 'a'\n",
      " 'x' 'n' 'c' 'b' 'm' 'b' 'h' '7' 'a' '7' 'n' 'a' 'a' 'n' 'h' 'm' 'm' 'b'\n",
      " '6' 'a' 'a' 'm' 'a' 'a' 'm' 'n' 'x' 'n' 'a' 'b' 'h' 'a' 'x' 'n' 'x' 'a'\n",
      " 'a' 'b' 'h' 'a' '6' 'b' 'n' 'a' 'a' 'x' 'h' 'a' '6' 'x' 'n' 'a' '6' 'b'\n",
      " 'b' 'a' '6' 'n' 'a' 'a' 'b' 'a' 'm' 'a' 'a' 'x' '6' 'a' 'a' '7' 'a' 'a'\n",
      " '7' 'x' 'h' 'm' 'a' 'b' 'h' 'a' 'm' 'm' 'h' 'm' 'm' 'n' '6' 'a' 'n' 'a'\n",
      " 'n' '6' 'a' 'b' '6' 'x' 'b' 'm' 'h' 'a' 'b' 'x' 'm' 'a' '6' 'x' '6' 'a'\n",
      " 'm' 'a' 'h' 'm' 'n' 'x' '6' 'a' '6' 'a' 'n' 'a' 'x' 'b' 'n' 'a' 'b' 'm'\n",
      " 'n' 'm' 'x' 'n' 'n' 'b' 'a' 'a' 'n' 'x' '6' 'a' 'n' 'a' 'a' 'n' '7' 'a'\n",
      " 'b' 'b' 'n' 'a' '6' 'x' '6' '6' '6' '7' '7' 'm' 'm' 'a' 'a' 'a' '6' 'x'\n",
      " 'b' 'a' '6' 'x' '6' '7' 'a' 'b' 'h' '7' 'a' 'm' 'n' 'a' 'a' '7' 'x' 'm'\n",
      " '7' 'm' 'h' 'a' 'b' 'm' 'm' '7' 'a' 'a' 'n' 'a' 'a' '7' 'x' 'b' 'b' 'a'\n",
      " '7' 'a' '6' '7' 'n' 'a' 'a' 'n' 'n' 'n' 'b' 'b']\n",
      "0.72125\n",
      "['m', 'x', 'a', 'c', 'm', 'c', 'x', '7', '7', 'n', '7', 'x', 'a', 'm', '6', 'x', '6', 'm', 'x', '6', 'b', 'a', 'h', 'c', '6', 'a', '7', 'h', 'b', 'd', 'c', '7', 'd', 'm', 'a', 'c', 'd', 'c', 'b', '6', 'd', 'c', '6', 'x', '7', 'd', 'a', '6', 'a', 'n', 'h', 'b', 'h', 'a', 'n', '7', 'h', 'm', 'x', 'a', 'b', 'a', 'h', '6', 'a', 'c', '6', 'b', 'n', 'b', 'b', '6', 'm', 'm', '6', 'm', 'd', '6', 'x', '6', 'm', 'm', 'c', 'b', 'm', '6', '6', 'm', 'd', 'a', '6', 'h', 'h', 'a', 'm', 'h', 'h', '6', 'm', '7', 'b', 'b', 'c', 'a', 'a', 'b', 'd', 'h', 'd', 'c', 'b', 'd', 'm', 'a', 'a', 'd', 'c', '7', 'd', 'd', 'h', '6', 'a', 'a', 'b', 'd', 'b', '7', 'h', 'x', 'x', 'h', 'a', 'd', 'h', 'x', 'x', 'b', '7', 'h', 'x', 'b', 'a', 'x', 'b', 'x', 'h', 'd', 'a', 'c', 'c', 'x', 'b', 'd', 'n', 'c', 'c', 'x', 'n', 'm', 'd', 'c', 'c', 'c', 'n', 'h', '6', 'b', 'd', 'h', '7', '6', '7', '6', 'a', 'm', 'h', 'n', 'n', 'n', 'h', 'h', '7', '6', 'h', '6', 'h', 'h', '6', 'h', 'c', 'm', 'h', 'd', '6', 'h', 'b', 'x', '6', 'x', 'd', 'h', 'c', 'n', 'm', 'm', 'h', '7', 'm', 'm', 'h', 'a', '7', 'c', 'n', 'h', 'n', 'x', '6', 'm', '7', 'a', '7', '6', 'c', '7', 'a', 'm', 'h', 'c', 'h', 'a', '6', 'h', 'c', 'x', 'c', 'n', 'c', 'b', 'c', '6', 'd', '6', 'n', 'm', '6', 'c', 'a', 'b', 'x', 'd', 'a', 'n', 'm', 'h', 'a', 'h', '6', 'n', 'a', 'd', '6', 'c', 'n', 'n', 'h', 'h', 'c', 'b', 'n', 'm', 'b', 'c', '7', 'm', 'd', 'n', '7', '7', 'm', 'd', 'x', 'c', 'n', '6', 'a', '7', 'a', '6', 'h', 'a', 'c', '7', 'm', 'h', '7', '6', '7', 'n', 'm', 'd', 'b', 'n', 'c', 'c', 'd', 'm', 'n', 'a', 'c', 'n', 'h', '7', '6', 'm', 'c', '7', 'c', 'x', '6', 'h', 'n', 'c', 'm', 'b', '7', 'x', 'h', 'b', 'b', 'h', 'a', 'b', 'c', 'b', 'b', 'b', 'h', 'h', '7', 'a', 'b', 'b', 'm', '7', 'm', 'c', 'd', '7', '6', 'x', '7', 'x', 'b', 'a', 'n', 'n', 'h', '6', 'a', 'm', 'h', 'n', 'x', '6', 'n', 'c', 'n', 'm', 'm', 'x', 'n', 'm', 'b', '6', 'h', 'b', '6', '7', '7', 'm', '7', 'b', '7', 'a', '7', 'x', 'b', '6', 'x', 'h', 'd', 'b', 'c', 'h', 'a', 'd', '6', 'h', 'n', 'n', 'd', '7', 'c', '7', 'm', '6', 'm', 'n', 'c', 'h', 'a', 'n', 'a', '6', 'c', 'h', 'a', 'c', 'd', 'x', 'd', 'm', '7', 'c', 'm', 'h', 'c', 'm', '6', 'c', '7', 'h', '6', 'd', 'a', 'n', 'h', 'h', 'b', 'd', 'a', '7', 'a', '6', 'm', 'b', '7', 'b', 'm', 'x', 'a', 'c', 'c', 'c', 'c', 'b', 'h', 'a', '7', 'a', 'd', 'c', 'd', 'm', 'c', '6', 'b', '7', 'n', '6', 'd', 'x', '7', 'b', 'm', 'a', 'c', 'c', 'm', 'h', 'h', 'm', '6', 'x', 'c', 'x', 'a', '6', 'x', '6', '6', 'x', '7', '7', '7', 'b', 'n', 'a', '7', 'h', 'c', 'm', 'b', '7', 'm', 'm', 'd', 'd', 'h', 'm', 'b', 'b', 'b', 'm', 'n', 'b', '6', 'b', '7', 'n', 'x', 'd', 'n', '7', '6', 'h', '6', 'c', '7', 'd', 'c', 'x', 'c', '6', 'c', 'd', 'd', 'b', '7', 'h', 'x', 'b', 'x', 'h', 'x', 'x', 'm', 'h', 'd', 'h', 'x', 'n', 'c', 'c', 'n', 'b', '6', 'a', 'h', 'a', 'a', '7', '6', 'm', 'n', 'a', '7', 'b', 'c', 'a', '7', '7', 'x', '7', '6', 'a', 'm', 'a', 'a', 'a', 'c', 'd', 'n', 'm', 'd', '6']\n"
     ]
    }
   ],
   "source": [
    "from sklearn import svm\n",
    "\n",
    "mlp = MLPClassifier(solver='lbfgs', hidden_layer_sizes=(10, 1500), random_state=1)\n",
    "\n",
    "mlp.fit(X_train, Y_train)\n",
    "score = mlp.score(X_train,Y_train)        \n",
    "\n",
    "Y_pred = mlp.predict(X_val)\n",
    "\n",
    "print(Y_pred)\n",
    "print(score)\n",
    "\n",
    "svc = svm.SVC()\n",
    "\n",
    "svc.fit(X_train, Y_train)\n",
    "score2 = svc.score(X_train, Y_train)\n",
    "\n",
    "y_pred = mlp.predict(X_val)\n",
    "\n",
    "print(y_pred)\n",
    "print(score2)\n"
   ]
  },
  {
   "cell_type": "markdown",
   "metadata": {},
   "source": [
    "### Gráficos dos resultados"
   ]
  },
  {
   "cell_type": "code",
   "execution_count": 41,
   "metadata": {},
   "outputs": [
    {
     "data": {
      "image/png": "[encoded data removed]",
      "text/plain": [
       "<Figure size 432x288 with 1 Axes>"
      ]
     },
     "metadata": {},
     "output_type": "display_data"
    }
   ],
   "source": [
    "import matplotlib.pyplot as plt\n",
    "import numpy as np\n",
    "\n",
    "from sklearn.datasets import load_digits\n",
    "from sklearn.svm import SVC\n",
    "\n",
    "param_range = np.logspace(-6, -1, 5)\n",
    "scores_train, scores_test = validation_curve(\n",
    "    SVC(), X_train, Y_train, param_name=\"gamma\",\n",
    "    param_range= param_range,\n",
    "    cv=10, scoring=\"accuracy\", n_jobs=1)\n",
    "train_scores_mean = np.mean(scores_train, axis=1)\n",
    "train_scores_std = np.std(scores_train, axis=1)\n",
    "test_scores_mean = np.mean(scores_test, axis=1)\n",
    "test_scores_std = np.std(scores_test, axis=1)\n",
    "\n",
    "plt.title(\"Curva de aprendizado\")\n",
    "plt.xlabel(\"$\\gamma$\")\n",
    "plt.ylabel(\"Score\")\n",
    "plt.ylim(0.0, 1.1)\n",
    "lw = 2\n",
    "\n",
    "plt.semilogx(param_range, \n",
    "             train_scores_mean, \n",
    "             label=\"Training score\",\n",
    "             color=\"darkorange\", \n",
    "             lw=lw)\n",
    "plt.fill_between(param_range, \n",
    "                 train_scores_mean - train_scores_std,\n",
    "                 train_scores_mean + train_scores_std, \n",
    "                 alpha=0.2,\n",
    "                 color=\"darkorange\", \n",
    "                 lw=lw)\n",
    "plt.semilogx(param_range, \n",
    "             test_scores_mean, \n",
    "             label=\"Cross-validation score\",\n",
    "             color=\"navy\", \n",
    "             lw=lw)\n",
    "plt.fill_between(param_range, \n",
    "                 test_scores_mean - test_scores_std,\n",
    "                 test_scores_mean + test_scores_std, \n",
    "                 alpha=0.2,\n",
    "                 color=\"navy\", \n",
    "                 lw=lw)\n",
    "\n",
    "plt.legend(loc=\"best\")\n",
    "plt.show()"
   ]
  },
  {
   "cell_type": "code",
   "execution_count": null,
   "metadata": {},
   "outputs": [],
   "source": []
  }
 ],
 "metadata": {
  "kernelspec": {
   "display_name": "Python 3",
   "language": "python",
   "name": "python3"
  },
  "language_info": {
   "codemirror_mode": {
    "name": "ipython",
    "version": 3
   },
   "file_extension": ".py",
   "mimetype": "text/x-python",
   "name": "python",
   "nbconvert_exporter": "python",
   "pygments_lexer": "ipython3",
   "version": "3.6.5"
  }
 },
 "nbformat": 4,
 "nbformat_minor": 1
}
